{
 "cells": [
  {
   "cell_type": "code",
   "execution_count": 4,
   "id": "aae508c3-58e7-4dc4-9eb3-69047ad74c5a",
   "metadata": {},
   "outputs": [
    {
     "name": "stdout",
     "output_type": "stream",
     "text": [
      "Entry added for 2025-04-12\n"
     ]
    }
   ],
   "source": [
    "# Your log entry will be processed here\n",
    "import json\n",
    "from datetime import datetime\n",
    "from pathlib import Path\n",
    "\n",
    "# Default values if not run via papermill\n",
    "if 'date' not in globals():\n",
    "    date = datetime.now().strftime(\"%Y-%m-%d\")\n",
    "if 'entry' not in globals():\n",
    "    entry = \"Default entry - notebook run directly\"\n",
    "\n",
    "# Load existing log or create new\n",
    "log_file = Path(\"daily_log.json\")\n",
    "if log_file.exists():\n",
    "    with open(log_file, 'r') as f:\n",
    "        log_data = json.load(f)\n",
    "else:\n",
    "    log_data = []\n",
    "\n",
    "# Append new entry\n",
    "log_data.append({\n",
    "    \"date\": date,\n",
    "    \"timestamp\": datetime.now().isoformat(),\n",
    "    \"entry\": entry\n",
    "})\n",
    "\n",
    "# Save log\n",
    "with open(log_file, 'w') as f:\n",
    "    json.dump(log_data, f, indent=2)\n",
    "\n",
    "print(f\"Entry added for {date}\")"
   ]
  },
  {
   "cell_type": "code",
   "execution_count": null,
   "id": "df38ee9c-6f81-46e2-ac12-70fcc20d2a60",
   "metadata": {},
   "outputs": [],
   "source": []
  }
 ],
 "metadata": {
  "kernelspec": {
   "display_name": "Python 3 (ipykernel)",
   "language": "python",
   "name": "python3"
  },
  "language_info": {
   "codemirror_mode": {
    "name": "ipython",
    "version": 3
   },
   "file_extension": ".py",
   "mimetype": "text/x-python",
   "name": "python",
   "nbconvert_exporter": "python",
   "pygments_lexer": "ipython3",
   "version": "3.10.16"
  }
 },
 "nbformat": 4,
 "nbformat_minor": 5
}

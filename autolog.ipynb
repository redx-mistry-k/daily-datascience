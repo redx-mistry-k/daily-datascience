{
 "cells": [
  {
   "cell_type": "markdown",
   "id": "29b2ca45-9179-482e-9656-1cce223b757a",
   "metadata": {},
   "source": [
    "# Jupyter Notebook Auto-log System"
   ]
  },
  {
   "cell_type": "code",
   "execution_count": 1,
   "id": "9daaf920-79f1-4ee7-ac5f-1014a61f0418",
   "metadata": {},
   "outputs": [],
   "source": [
    "import papermill as pm\n",
    "from datetime import datetime\n",
    "import os\n",
    "\n",
    "# Configuration\n",
    "TEMPLATE_NB = \"log_template.ipynb\"\n",
    "OUTPUT_DIR = \"logs\"\n",
    "LOG_FILE = \"daily_log.json\""
   ]
  },
  {
   "cell_type": "code",
   "execution_count": 2,
   "id": "c8e7e9a1-abd2-4227-a9b2-250d0f7c0f08",
   "metadata": {},
   "outputs": [],
   "source": [
    "def add_daily_entry(entry_text):\n",
    "    \"\"\"Execute the template notebook with today's date and entry\"\"\"\n",
    "    today = datetime.now().strftime(\"%Y-%m-%d\")\n",
    "    output_nb = os.path.join(OUTPUT_DIR, f\"log_{today}.ipynb\")\n",
    "    \n",
    "    # Create output directory if needed\n",
    "    os.makedirs(OUTPUT_DIR, exist_ok=True)\n",
    "    \n",
    "    # Execute with papermill\n",
    "    pm.execute_notebook(\n",
    "        TEMPLATE_NB,\n",
    "        output_nb,\n",
    "        parameters={\n",
    "            'date': today,\n",
    "            'entry': entry_text\n",
    "        }\n",
    "    )\n",
    "    \n",
    "    print(f\"Daily log entry added for {today}\")\n",
    "    return output_nb"
   ]
  },
  {
   "cell_type": "code",
   "execution_count": 3,
   "id": "62c229fd-8bcc-4941-a2c6-d65d3c647938",
   "metadata": {},
   "outputs": [
    {
     "name": "stderr",
     "output_type": "stream",
     "text": [
      "Passed unknown parameter: date\n",
      "Passed unknown parameter: entry\n",
      "Input notebook does not contain a cell with tag 'parameters'\n"
     ]
    },
    {
     "data": {
      "application/vnd.jupyter.widget-view+json": {
       "model_id": "e671c78b324041aba01a1dda85a5d12e",
       "version_major": 2,
       "version_minor": 0
      },
      "text/plain": [
       "Executing:   0%|          | 0/3 [00:00<?, ?cell/s]"
      ]
     },
     "metadata": {},
     "output_type": "display_data"
    },
    {
     "name": "stdout",
     "output_type": "stream",
     "text": [
      "Daily log entry added for 2025-04-12\n"
     ]
    },
    {
     "data": {
      "text/plain": [
       "'logs\\\\log_2025-04-12.ipynb'"
      ]
     },
     "execution_count": 3,
     "metadata": {},
     "output_type": "execute_result"
    }
   ],
   "source": [
    "# Example usage - you can modify this cell to prompt for input\n",
    "today_entry = \"Completed initial setup of auto-log system. Test entry.\"\n",
    "add_daily_entry(today_entry)"
   ]
  },
  {
   "cell_type": "code",
   "execution_count": 4,
   "id": "bc968fff-9616-4050-aab2-a09d479c4986",
   "metadata": {},
   "outputs": [
    {
     "name": "stderr",
     "output_type": "stream",
     "text": [
      "Passed unknown parameter: date\n",
      "Passed unknown parameter: entry\n",
      "Input notebook does not contain a cell with tag 'parameters'\n"
     ]
    },
    {
     "data": {
      "application/vnd.jupyter.widget-view+json": {
       "model_id": "d0c3f085fa2a4d9eb731fe493a21e866",
       "version_major": 2,
       "version_minor": 0
      },
      "text/plain": [
       "Executing:   0%|          | 0/3 [00:00<?, ?cell/s]"
      ]
     },
     "metadata": {},
     "output_type": "display_data"
    },
    {
     "name": "stdout",
     "output_type": "stream",
     "text": [
      "Daily log entry added for 2025-04-12\n"
     ]
    },
    {
     "data": {
      "text/plain": [
       "'logs\\\\log_2025-04-12.ipynb'"
      ]
     },
     "execution_count": 4,
     "metadata": {},
     "output_type": "execute_result"
    }
   ],
   "source": [
    "# Example usage - you can modify this cell to prompt for input\n",
    "today_entry = \"Completed initial setup of auto-log system. Test entry.\"\n",
    "add_daily_entry(today_entry)"
   ]
  },
  {
   "cell_type": "markdown",
   "id": "fb54bd51-c534-41b6-b480-9e95dbd21bf2",
   "metadata": {},
   "source": [
    "## View Log Entries"
   ]
  },
  {
   "cell_type": "code",
   "execution_count": 5,
   "id": "9ad09b9a-87a9-4f07-b831-80533f2b328d",
   "metadata": {},
   "outputs": [
    {
     "name": "stdout",
     "output_type": "stream",
     "text": [
      "Found 3 log entries:\n",
      "[{'date': '2025-04-12',\n",
      "  'entry': 'Default entry - notebook run directly',\n",
      "  'timestamp': '2025-04-12T18:53:03.734187'},\n",
      " {'date': '2025-04-12',\n",
      "  'entry': 'Completed initial setup of auto-log system. Test entry.',\n",
      "  'timestamp': '2025-04-12T19:02:28.754648'},\n",
      " {'date': '2025-04-12',\n",
      "  'entry': 'Completed initial setup of auto-log system. Test entry.',\n",
      "  'timestamp': '2025-04-12T19:02:41.036581'}]\n"
     ]
    }
   ],
   "source": [
    "import json\n",
    "from pprint import pprint\n",
    "\n",
    "try:\n",
    "    with open(LOG_FILE, 'r') as f:\n",
    "        log_data = json.load(f)\n",
    "    print(f\"Found {len(log_data)} log entries:\")\n",
    "    pprint(log_data)\n",
    "except FileNotFoundError:\n",
    "    print(\"No log entries found.\")"
   ]
  },
  {
   "cell_type": "code",
   "execution_count": null,
   "id": "e136261d-c9e3-4306-85fc-115be9b33a75",
   "metadata": {},
   "outputs": [],
   "source": []
  }
 ],
 "metadata": {
  "kernelspec": {
   "display_name": "Python 3 (ipykernel)",
   "language": "python",
   "name": "python3"
  },
  "language_info": {
   "codemirror_mode": {
    "name": "ipython",
    "version": 3
   },
   "file_extension": ".py",
   "mimetype": "text/x-python",
   "name": "python",
   "nbconvert_exporter": "python",
   "pygments_lexer": "ipython3",
   "version": "3.10.16"
  }
 },
 "nbformat": 4,
 "nbformat_minor": 5
}
